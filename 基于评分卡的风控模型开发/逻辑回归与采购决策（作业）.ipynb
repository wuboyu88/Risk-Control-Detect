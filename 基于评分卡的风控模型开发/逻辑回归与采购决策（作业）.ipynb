{
 "cells": [
  {
   "cell_type": "markdown",
   "metadata": {},
   "source": [
    "# Thinking1：逻辑回归的假设条件是怎样的？\n",
    "\n",
    "1. 数据的标签需要服从伯努利分布，也就是0/1非此即彼的分布。\n",
    "2. 正类的概率有sigmoid函数进行计算得出的。\n",
    "3. 数据特征分布最好是正态分布的，尽量避免长尾的数据分布。"
   ]
  },
  {
   "cell_type": "markdown",
   "metadata": {},
   "source": [
    "# Thinking2：逻辑回归的损失函数是怎样的？\n",
    "\n",
    "1. 预测函数为：$h_{\\theta}(x)=g(\\theta^Tx)=sigmod(\\theta^Tx)$\n",
    "2. 综合公式：$P(y|x;\\theta)=(h_{\\theta}(x))^y(1-h_{\\theta}(x))^{1-y}$\n",
    "3. $l(\\theta)=logL(\\theta)=\\sum^m_{i=1}(y^{(i)}logh_{\\theta}(x^{(i)})+(1-y^{(i)})log(1-h_{\\theta}(x^{(i)})))$\n",
    "4. 损失函数：$J(\\theta)=-\\frac{1}{m}l(\\theta)$"
   ]
  },
  {
   "cell_type": "markdown",
   "metadata": {},
   "source": [
    "# Thinking3：逻辑回归如何进行分类？\n",
    "\n",
    "1. 每一个特征会有一个权重，所有的特征值与权重加权求和之后，通过sigmoid函数可以映射到0-1范围内的数值\n",
    "2. 可以假设通过sigmoid之后大于0.5的属于1的标签，小于0.5的属于0的标签。"
   ]
  },
  {
   "cell_type": "markdown",
   "metadata": {},
   "source": [
    "# Thinking4：为什么在训练中需要将高度相关的特征去掉？\n",
    "\n",
    "1. 高度相关的特征容易共线性，把权重平分了，减弱了模型参数的解释能力。\n",
    "2. 既然用一个特征的效果等于用多个相关性特征的效果，多用几个就相当于浪费的存储和计算的资源。\n",
    "3. 从信息的角度看，高度相关的特征并不能提供额外能利用的信息，也就是多个跟一个特征提供的信息量相同。"
   ]
  },
  {
   "cell_type": "markdown",
   "metadata": {},
   "source": [
    "# Action1: 基于评分卡的风控模型开发\n",
    "\n",
    "1. https://www.kaggle.com/c/GiveMeSomeCredit/data\n",
    "2. 数据集GiveMeSomeCredit，15万样本数据\n",
    "3. 使用WOE进行特征变换，IV进行特征筛选，LR构建风控模型，并对模型评分规则进行可解释性说明 \n",
    "    * 基本属性：包括了借款人当时的年龄\n",
    "    * 偿债能力：包括了借款人的月收入、负债比率\n",
    "    * 信用往来：两年内35-59天逾期次数、两年内60-89天逾期次数、两年内90天或高于90天逾期的次数\n",
    "    * 财产状况：包括了开放式信贷和贷款数量、不动产贷款或额度数量。\n",
    "    * 其他因素：包括了借款人的家属数量"
   ]
  },
  {
   "cell_type": "markdown",
   "metadata": {},
   "source": [
    "## 数据探索"
   ]
  },
  {
   "cell_type": "code",
   "execution_count": 1,
   "metadata": {},
   "outputs": [],
   "source": [
    "import pandas as pd\n",
    "import matplotlib.pyplot as plt\n",
    "import numpy as np\n",
    "import warnings\n",
    "warnings.filterwarnings(\"ignore\")"
   ]
  },
  {
   "cell_type": "code",
   "execution_count": 2,
   "metadata": {},
   "outputs": [
    {
     "data": {
      "text/html": [
       "<div>\n",
       "<style scoped>\n",
       "    .dataframe tbody tr th:only-of-type {\n",
       "        vertical-align: middle;\n",
       "    }\n",
       "\n",
       "    .dataframe tbody tr th {\n",
       "        vertical-align: top;\n",
       "    }\n",
       "\n",
       "    .dataframe thead th {\n",
       "        text-align: right;\n",
       "    }\n",
       "</style>\n",
       "<table border=\"1\" class=\"dataframe\">\n",
       "  <thead>\n",
       "    <tr style=\"text-align: right;\">\n",
       "      <th></th>\n",
       "      <th>SeriousDlqin2yrs</th>\n",
       "      <th>RevolvingUtilizationOfUnsecuredLines</th>\n",
       "      <th>age</th>\n",
       "      <th>NumberOfTime30-59DaysPastDueNotWorse</th>\n",
       "      <th>DebtRatio</th>\n",
       "      <th>MonthlyIncome</th>\n",
       "      <th>NumberOfOpenCreditLinesAndLoans</th>\n",
       "      <th>NumberOfTimes90DaysLate</th>\n",
       "      <th>NumberRealEstateLoansOrLines</th>\n",
       "      <th>NumberOfTime60-89DaysPastDueNotWorse</th>\n",
       "      <th>NumberOfDependents</th>\n",
       "    </tr>\n",
       "  </thead>\n",
       "  <tbody>\n",
       "    <tr>\n",
       "      <th>0</th>\n",
       "      <td>1</td>\n",
       "      <td>0.766127</td>\n",
       "      <td>45</td>\n",
       "      <td>2</td>\n",
       "      <td>0.802982</td>\n",
       "      <td>9120.0</td>\n",
       "      <td>13</td>\n",
       "      <td>0</td>\n",
       "      <td>6</td>\n",
       "      <td>0</td>\n",
       "      <td>2.0</td>\n",
       "    </tr>\n",
       "    <tr>\n",
       "      <th>1</th>\n",
       "      <td>0</td>\n",
       "      <td>0.957151</td>\n",
       "      <td>40</td>\n",
       "      <td>0</td>\n",
       "      <td>0.121876</td>\n",
       "      <td>2600.0</td>\n",
       "      <td>4</td>\n",
       "      <td>0</td>\n",
       "      <td>0</td>\n",
       "      <td>0</td>\n",
       "      <td>1.0</td>\n",
       "    </tr>\n",
       "    <tr>\n",
       "      <th>2</th>\n",
       "      <td>0</td>\n",
       "      <td>0.658180</td>\n",
       "      <td>38</td>\n",
       "      <td>1</td>\n",
       "      <td>0.085113</td>\n",
       "      <td>3042.0</td>\n",
       "      <td>2</td>\n",
       "      <td>1</td>\n",
       "      <td>0</td>\n",
       "      <td>0</td>\n",
       "      <td>0.0</td>\n",
       "    </tr>\n",
       "    <tr>\n",
       "      <th>3</th>\n",
       "      <td>0</td>\n",
       "      <td>0.233810</td>\n",
       "      <td>30</td>\n",
       "      <td>0</td>\n",
       "      <td>0.036050</td>\n",
       "      <td>3300.0</td>\n",
       "      <td>5</td>\n",
       "      <td>0</td>\n",
       "      <td>0</td>\n",
       "      <td>0</td>\n",
       "      <td>0.0</td>\n",
       "    </tr>\n",
       "    <tr>\n",
       "      <th>4</th>\n",
       "      <td>0</td>\n",
       "      <td>0.907239</td>\n",
       "      <td>49</td>\n",
       "      <td>1</td>\n",
       "      <td>0.024926</td>\n",
       "      <td>63588.0</td>\n",
       "      <td>7</td>\n",
       "      <td>0</td>\n",
       "      <td>1</td>\n",
       "      <td>0</td>\n",
       "      <td>0.0</td>\n",
       "    </tr>\n",
       "  </tbody>\n",
       "</table>\n",
       "</div>"
      ],
      "text/plain": [
       "   SeriousDlqin2yrs  RevolvingUtilizationOfUnsecuredLines  age  \\\n",
       "0                 1                              0.766127   45   \n",
       "1                 0                              0.957151   40   \n",
       "2                 0                              0.658180   38   \n",
       "3                 0                              0.233810   30   \n",
       "4                 0                              0.907239   49   \n",
       "\n",
       "   NumberOfTime30-59DaysPastDueNotWorse  DebtRatio  MonthlyIncome  \\\n",
       "0                                     2   0.802982         9120.0   \n",
       "1                                     0   0.121876         2600.0   \n",
       "2                                     1   0.085113         3042.0   \n",
       "3                                     0   0.036050         3300.0   \n",
       "4                                     1   0.024926        63588.0   \n",
       "\n",
       "   NumberOfOpenCreditLinesAndLoans  NumberOfTimes90DaysLate  \\\n",
       "0                               13                        0   \n",
       "1                                4                        0   \n",
       "2                                2                        1   \n",
       "3                                5                        0   \n",
       "4                                7                        0   \n",
       "\n",
       "   NumberRealEstateLoansOrLines  NumberOfTime60-89DaysPastDueNotWorse  \\\n",
       "0                             6                                     0   \n",
       "1                             0                                     0   \n",
       "2                             0                                     0   \n",
       "3                             0                                     0   \n",
       "4                             1                                     0   \n",
       "\n",
       "   NumberOfDependents  \n",
       "0                 2.0  \n",
       "1                 1.0  \n",
       "2                 0.0  \n",
       "3                 0.0  \n",
       "4                 0.0  "
      ]
     },
     "execution_count": 2,
     "metadata": {},
     "output_type": "execute_result"
    }
   ],
   "source": [
    "raw = pd.read_csv('./cs-training.csv')\n",
    "raw.drop('Unnamed: 0', axis=1, inplace=True)\n",
    "raw.head()"
   ]
  },
  {
   "cell_type": "code",
   "execution_count": 3,
   "metadata": {},
   "outputs": [
    {
     "name": "stdout",
     "output_type": "stream",
     "text": [
      "<class 'pandas.core.frame.DataFrame'>\n",
      "RangeIndex: 150000 entries, 0 to 149999\n",
      "Data columns (total 11 columns):\n",
      " #   Column                                Non-Null Count   Dtype  \n",
      "---  ------                                --------------   -----  \n",
      " 0   SeriousDlqin2yrs                      150000 non-null  int64  \n",
      " 1   RevolvingUtilizationOfUnsecuredLines  150000 non-null  float64\n",
      " 2   age                                   150000 non-null  int64  \n",
      " 3   NumberOfTime30-59DaysPastDueNotWorse  150000 non-null  int64  \n",
      " 4   DebtRatio                             150000 non-null  float64\n",
      " 5   MonthlyIncome                         120269 non-null  float64\n",
      " 6   NumberOfOpenCreditLinesAndLoans       150000 non-null  int64  \n",
      " 7   NumberOfTimes90DaysLate               150000 non-null  int64  \n",
      " 8   NumberRealEstateLoansOrLines          150000 non-null  int64  \n",
      " 9   NumberOfTime60-89DaysPastDueNotWorse  150000 non-null  int64  \n",
      " 10  NumberOfDependents                    146076 non-null  float64\n",
      "dtypes: float64(4), int64(7)\n",
      "memory usage: 12.6 MB\n"
     ]
    }
   ],
   "source": [
    "raw.info()"
   ]
  },
  {
   "cell_type": "code",
   "execution_count": 4,
   "metadata": {},
   "outputs": [
    {
     "data": {
      "text/plain": [
       "MonthlyIncome         29731\n",
       "NumberOfDependents     3924\n",
       "dtype: int64"
      ]
     },
     "execution_count": 4,
     "metadata": {},
     "output_type": "execute_result"
    }
   ],
   "source": [
    "# 缺失值\n",
    "temp = raw.isnull().sum()\n",
    "df_null = temp[temp != 0]\n",
    "null_col = df_null.index\n",
    "df_null"
   ]
  },
  {
   "cell_type": "code",
   "execution_count": 5,
   "metadata": {},
   "outputs": [
    {
     "data": {
      "text/plain": [
       "609"
      ]
     },
     "execution_count": 5,
     "metadata": {},
     "output_type": "execute_result"
    }
   ],
   "source": [
    "# 重复值\n",
    "raw.duplicated().sum()"
   ]
  },
  {
   "cell_type": "code",
   "execution_count": 6,
   "metadata": {
    "scrolled": true
   },
   "outputs": [
    {
     "data": {
      "image/png": "[encoded data removed]",
      "text/plain": [
       "<Figure size 432x288 with 1 Axes>"
      ]
     },
     "metadata": {},
     "output_type": "display_data"
    }
   ],
   "source": [
    "# 标签分布\n",
    "raw['SeriousDlqin2yrs'].value_counts().plot(kind='pie')\n",
    "plt.show()"
   ]
  },
  {
   "cell_type": "code",
   "execution_count": 7,
   "metadata": {},
   "outputs": [],
   "source": [
    "from sklearn.preprocessing import MinMaxScaler"
   ]
  },
  {
   "cell_type": "code",
   "execution_count": 8,
   "metadata": {},
   "outputs": [
    {
     "data": {
      "image/png": "[encoded data removed]",
      "text/plain": [
       "<Figure size 1224x288 with 1 Axes>"
      ]
     },
     "metadata": {
      "needs_background": "light"
     },
     "output_type": "display_data"
    }
   ],
   "source": [
    "# 特征分布\n",
    "feature_col = [x for x in raw.columns if x != 'SeriousDlqin2yrs']\n",
    "box = raw[feature_col]\n",
    "box_data = MinMaxScaler().fit_transform(box)\n",
    "plt.figure(figsize=(17,4))\n",
    "plt.boxplot(box_data, labels=box.columns)\n",
    "plt.xticks(rotation=90)\n",
    "plt.show()"
   ]
  },
  {
   "cell_type": "markdown",
   "metadata": {},
   "source": [
    "## 数据清洗"
   ]
  },
  {
   "cell_type": "code",
   "execution_count": 9,
   "metadata": {},
   "outputs": [],
   "source": [
    "# 缺失值填充\n",
    "df_data = raw.fillna({'MonthlyIncome': raw['MonthlyIncome'].mean(), 'NumberOfDependents': 0.0})\n",
    "\n",
    "# 重复值删除\n",
    "df_data.drop_duplicates(inplace=True, ignore_index=True)"
   ]
  },
  {
   "cell_type": "markdown",
   "metadata": {},
   "source": [
    "## 变量 WOE 值计算"
   ]
  },
  {
   "cell_type": "code",
   "execution_count": 10,
   "metadata": {},
   "outputs": [],
   "source": [
    "def get_woe_and_iv(df, labels, col, strategy='distance', bins=None):\n",
    "\n",
    "    # 数据分桶\n",
    "    df = df[[col]+[labels]]\n",
    "\n",
    "    if strategy == 'distance':\n",
    "        df['bins'] = pd.cut(df[col], bins=bins)\n",
    "    elif strategy == 'frequency':\n",
    "        df['bins'] = pd.qcut(df[col], q=bins, duplicates='drop')\n",
    "    \n",
    "    woe_detail = df['bins'].value_counts().reset_index().rename(columns={'bins': 'total', 'index': 'bins'})\n",
    "    \n",
    "    # 计算每个属性 good(not event) 和 bad(event) 的个数\n",
    "    temp = df.groupby('bins')[labels].value_counts().unstack().reset_index().rename(columns={0: 'good_total', 1: 'bad_total'})\n",
    "    woe_detail = pd.merge(woe_detail, temp, on='bins', how='left')\n",
    "    woe_detail.fillna(value={'good_total': 0, 'bad_total': 0}, inplace=True)\n",
    "    \n",
    "    # 计算每个属性 good 和 bad 的占比\n",
    "    woe_detail['good_ratio'] = woe_detail['good_total'] / woe_detail['good_total'].sum()\n",
    "    woe_detail['bad_ratio'] = woe_detail['bad_total'] / woe_detail['bad_total'].sum()\n",
    "    \n",
    "    # 计算 woe 值\n",
    "    woe_detail['woe'] = np.log1p(woe_detail['bad_ratio'] / woe_detail['good_ratio'])\n",
    "    woe_detail.sort_values('woe', inplace=True, ascending=False)\n",
    "    \n",
    "    # 计算 Odds 值\n",
    "    c = woe_detail['bad_total'].sum() / woe_detail['good_total'].sum()\n",
    "    woe_detail['odds'] = np.log1p(c) + woe_detail['woe']\n",
    "    \n",
    "    # 单调性检验\n",
    "    woe_detail['Monotonicity'] = woe_detail['odds'].diff().apply(lambda x: True if x <= 0.0 else False)\n",
    "    \n",
    "    # 计算 IV 值\n",
    "    iv_score = ((woe_detail['bad_ratio'] - woe_detail['good_ratio']) * woe_detail['woe']).sum()\n",
    "    \n",
    "    return woe_detail, iv_score, df['bins']"
   ]
  },
  {
   "cell_type": "code",
   "execution_count": 11,
   "metadata": {
    "scrolled": false
   },
   "outputs": [
    {
     "data": {
      "text/html": [
       "<div>\n",
       "<style scoped>\n",
       "    .dataframe tbody tr th:only-of-type {\n",
       "        vertical-align: middle;\n",
       "    }\n",
       "\n",
       "    .dataframe tbody tr th {\n",
       "        vertical-align: top;\n",
       "    }\n",
       "\n",
       "    .dataframe thead th {\n",
       "        text-align: right;\n",
       "    }\n",
       "</style>\n",
       "<table border=\"1\" class=\"dataframe\">\n",
       "  <thead>\n",
       "    <tr style=\"text-align: right;\">\n",
       "      <th></th>\n",
       "      <th>columns</th>\n",
       "      <th>iv</th>\n",
       "    </tr>\n",
       "  </thead>\n",
       "  <tbody>\n",
       "    <tr>\n",
       "      <th>0</th>\n",
       "      <td>RevolvingUtilizationOfUnsecuredLines</td>\n",
       "      <td>0.529013</td>\n",
       "    </tr>\n",
       "    <tr>\n",
       "      <th>6</th>\n",
       "      <td>NumberOfTimes90DaysLate</td>\n",
       "      <td>0.375380</td>\n",
       "    </tr>\n",
       "    <tr>\n",
       "      <th>2</th>\n",
       "      <td>NumberOfTime30-59DaysPastDueNotWorse</td>\n",
       "      <td>0.340914</td>\n",
       "    </tr>\n",
       "    <tr>\n",
       "      <th>8</th>\n",
       "      <td>NumberOfTime60-89DaysPastDueNotWorse</td>\n",
       "      <td>0.203844</td>\n",
       "    </tr>\n",
       "    <tr>\n",
       "      <th>1</th>\n",
       "      <td>age</td>\n",
       "      <td>0.105887</td>\n",
       "    </tr>\n",
       "    <tr>\n",
       "      <th>4</th>\n",
       "      <td>MonthlyIncome</td>\n",
       "      <td>0.034784</td>\n",
       "    </tr>\n",
       "    <tr>\n",
       "      <th>3</th>\n",
       "      <td>DebtRatio</td>\n",
       "      <td>0.032071</td>\n",
       "    </tr>\n",
       "    <tr>\n",
       "      <th>5</th>\n",
       "      <td>NumberOfOpenCreditLinesAndLoans</td>\n",
       "      <td>0.026478</td>\n",
       "    </tr>\n",
       "    <tr>\n",
       "      <th>9</th>\n",
       "      <td>NumberOfDependents</td>\n",
       "      <td>0.007775</td>\n",
       "    </tr>\n",
       "    <tr>\n",
       "      <th>7</th>\n",
       "      <td>NumberRealEstateLoansOrLines</td>\n",
       "      <td>0.006124</td>\n",
       "    </tr>\n",
       "  </tbody>\n",
       "</table>\n",
       "</div>"
      ],
      "text/plain": [
       "                                columns        iv\n",
       "0  RevolvingUtilizationOfUnsecuredLines  0.529013\n",
       "6               NumberOfTimes90DaysLate  0.375380\n",
       "2  NumberOfTime30-59DaysPastDueNotWorse  0.340914\n",
       "8  NumberOfTime60-89DaysPastDueNotWorse  0.203844\n",
       "1                                   age  0.105887\n",
       "4                         MonthlyIncome  0.034784\n",
       "3                             DebtRatio  0.032071\n",
       "5       NumberOfOpenCreditLinesAndLoans  0.026478\n",
       "9                    NumberOfDependents  0.007775\n",
       "7          NumberRealEstateLoansOrLines  0.006124"
      ]
     },
     "execution_count": 11,
     "metadata": {},
     "output_type": "execute_result"
    }
   ],
   "source": [
    "data_dict = {\n",
    "    \n",
    "    'RevolvingUtilizationOfUnsecuredLines': {\n",
    "        'strategy': 'frequency', \n",
    "        'bins': [0, 0.2, 0.4, 0.6, 0.8, 1]\n",
    "    },\n",
    "    \n",
    "     'age': {\n",
    "        'strategy': 'distance', \n",
    "        'bins': [-float('inf'), 25, 40, 50, 60, 70, float('inf')]\n",
    "\n",
    "    },\n",
    "    \n",
    "    'NumberOfTime30-59DaysPastDueNotWorse': {\n",
    "        'strategy': 'distance', \n",
    "        'bins': [-float('inf'), 1, 2, 3, 4, 5, 6, 7, 8, 9, float('inf')]\n",
    "    },\n",
    "    \n",
    "    'DebtRatio': {\n",
    "        'strategy': 'frequency', \n",
    "        'bins': [0, 0.2, 0.4, 0.6, 0.8, 1]\n",
    "    },\n",
    "\n",
    "    'MonthlyIncome': {\n",
    "        'strategy': 'frequency', \n",
    "        'bins': [0, 0.2, 0.4, 0.6, 0.8, 1]\n",
    "    },\n",
    "\n",
    "    'NumberOfOpenCreditLinesAndLoans': {\n",
    "        'strategy': 'frequency', \n",
    "        'bins': [0, 0.2, 0.4, 0.6, 0.8, 1]\n",
    "    },\n",
    "    \n",
    "    'NumberOfTimes90DaysLate': {\n",
    "        'strategy': 'distance', \n",
    "        'bins': [-float('inf'), 1, 2, 3, 4, 5, 6, 7, 8, 9, float('inf')]\n",
    "    },\n",
    "    \n",
    "    'NumberRealEstateLoansOrLines': {\n",
    "        'strategy': 'frequency', \n",
    "        'bins': [0, 0.2, 0.4, 0.6, 0.8, 1]\n",
    "    },\n",
    "    \n",
    "    'NumberOfTime60-89DaysPastDueNotWorse': {\n",
    "        'strategy': 'distance', \n",
    "        'bins': [-float('inf'), 1, 2, 3, 4, 5, 6, 7, 8, 9, float('inf')]\n",
    "    },\n",
    "    \n",
    "    'NumberOfDependents': {\n",
    "        'strategy': 'distance', \n",
    "        'bins': [-float('inf'), 2, 4, 6, 8, 10, float('inf')]\n",
    "    },\n",
    "}\n",
    "\n",
    "df_bin_record = {}\n",
    "df_bin_record_detail = {}\n",
    "df_iv = {'columns':[], 'iv': []}\n",
    "for (key, value) in data_dict.items():\n",
    "    df_woe, iv, bins_detail = get_woe_and_iv(df_data, 'SeriousDlqin2yrs' ,key , strategy=value['strategy'], bins=value['bins'])\n",
    "    df_iv['columns'].append(key)\n",
    "    df_iv['iv'].append(iv)\n",
    "    df_bin_record[key] = df_woe\n",
    "    df_bin_record_detail[key] = bins_detail\n",
    "\n",
    "df_iv = pd.DataFrame(df_iv).sort_values('iv', ascending=False)\n",
    "df_iv"
   ]
  },
  {
   "cell_type": "code",
   "execution_count": 12,
   "metadata": {
    "scrolled": true
   },
   "outputs": [
    {
     "data": {
      "text/html": [
       "<div>\n",
       "<style scoped>\n",
       "    .dataframe tbody tr th:only-of-type {\n",
       "        vertical-align: middle;\n",
       "    }\n",
       "\n",
       "    .dataframe tbody tr th {\n",
       "        vertical-align: top;\n",
       "    }\n",
       "\n",
       "    .dataframe thead th {\n",
       "        text-align: right;\n",
       "    }\n",
       "</style>\n",
       "<table border=\"1\" class=\"dataframe\">\n",
       "  <thead>\n",
       "    <tr style=\"text-align: right;\">\n",
       "      <th></th>\n",
       "      <th>bins</th>\n",
       "      <th>total</th>\n",
       "      <th>good_total</th>\n",
       "      <th>bad_total</th>\n",
       "      <th>good_ratio</th>\n",
       "      <th>bad_ratio</th>\n",
       "      <th>woe</th>\n",
       "      <th>odds</th>\n",
       "      <th>Monotonicity</th>\n",
       "    </tr>\n",
       "  </thead>\n",
       "  <tbody>\n",
       "    <tr>\n",
       "      <th>0</th>\n",
       "      <td>(0.694, 50708.0]</td>\n",
       "      <td>29847</td>\n",
       "      <td>23884</td>\n",
       "      <td>5963</td>\n",
       "      <td>0.171545</td>\n",
       "      <td>0.596062</td>\n",
       "      <td>1.498433</td>\n",
       "      <td>1.567822</td>\n",
       "      <td>False</td>\n",
       "    </tr>\n",
       "    <tr>\n",
       "      <th>3</th>\n",
       "      <td>(0.271, 0.694]</td>\n",
       "      <td>29846</td>\n",
       "      <td>27761</td>\n",
       "      <td>2085</td>\n",
       "      <td>0.199391</td>\n",
       "      <td>0.208417</td>\n",
       "      <td>0.715528</td>\n",
       "      <td>0.784917</td>\n",
       "      <td>True</td>\n",
       "    </tr>\n",
       "    <tr>\n",
       "      <th>1</th>\n",
       "      <td>(0.0835, 0.271]</td>\n",
       "      <td>29847</td>\n",
       "      <td>28970</td>\n",
       "      <td>877</td>\n",
       "      <td>0.208074</td>\n",
       "      <td>0.087665</td>\n",
       "      <td>0.351583</td>\n",
       "      <td>0.420971</td>\n",
       "      <td>True</td>\n",
       "    </tr>\n",
       "    <tr>\n",
       "      <th>2</th>\n",
       "      <td>(-0.001, 0.0195]</td>\n",
       "      <td>29847</td>\n",
       "      <td>29263</td>\n",
       "      <td>584</td>\n",
       "      <td>0.210179</td>\n",
       "      <td>0.058377</td>\n",
       "      <td>0.245099</td>\n",
       "      <td>0.314487</td>\n",
       "      <td>True</td>\n",
       "    </tr>\n",
       "    <tr>\n",
       "      <th>4</th>\n",
       "      <td>(0.0195, 0.0835]</td>\n",
       "      <td>29846</td>\n",
       "      <td>29351</td>\n",
       "      <td>495</td>\n",
       "      <td>0.210811</td>\n",
       "      <td>0.049480</td>\n",
       "      <td>0.210839</td>\n",
       "      <td>0.280228</td>\n",
       "      <td>True</td>\n",
       "    </tr>\n",
       "  </tbody>\n",
       "</table>\n",
       "</div>"
      ],
      "text/plain": [
       "               bins  total  good_total  bad_total  good_ratio  bad_ratio  \\\n",
       "0  (0.694, 50708.0]  29847       23884       5963    0.171545   0.596062   \n",
       "3    (0.271, 0.694]  29846       27761       2085    0.199391   0.208417   \n",
       "1   (0.0835, 0.271]  29847       28970        877    0.208074   0.087665   \n",
       "2  (-0.001, 0.0195]  29847       29263        584    0.210179   0.058377   \n",
       "4  (0.0195, 0.0835]  29846       29351        495    0.210811   0.049480   \n",
       "\n",
       "        woe      odds  Monotonicity  \n",
       "0  1.498433  1.567822         False  \n",
       "3  0.715528  0.784917          True  \n",
       "1  0.351583  0.420971          True  \n",
       "2  0.245099  0.314487          True  \n",
       "4  0.210839  0.280228          True  "
      ]
     },
     "execution_count": 12,
     "metadata": {},
     "output_type": "execute_result"
    }
   ],
   "source": [
    "df_bin_record['RevolvingUtilizationOfUnsecuredLines']"
   ]
  },
  {
   "cell_type": "markdown",
   "metadata": {},
   "source": [
    "## 筛选变量并生成评分卡"
   ]
  },
  {
   "cell_type": "code",
   "execution_count": 13,
   "metadata": {},
   "outputs": [
    {
     "data": {
      "text/plain": [
       "['RevolvingUtilizationOfUnsecuredLines',\n",
       " 'NumberOfTimes90DaysLate',\n",
       " 'NumberOfTime30-59DaysPastDueNotWorse',\n",
       " 'NumberOfTime60-89DaysPastDueNotWorse',\n",
       " 'age']"
      ]
     },
     "execution_count": 13,
     "metadata": {},
     "output_type": "execute_result"
    }
   ],
   "source": [
    "# 筛选 iv 值大于 0.1 的变量\n",
    "iv_col = [x['columns'] for _, x in df_iv.iterrows() if x['iv'] > 0.1]\n",
    "iv_col"
   ]
  },
  {
   "cell_type": "code",
   "execution_count": 14,
   "metadata": {},
   "outputs": [],
   "source": [
    "# 生成评分卡\n",
    "score_card = pd.DataFrame(data=None)\n",
    "for column in iv_col:\n",
    "    temp = df_bin_record[column][['bins', 'woe']]\n",
    "    temp['column'] = column\n",
    "    score_card = pd.concat([score_card, temp], axis=0, ignore_index=True)"
   ]
  },
  {
   "cell_type": "code",
   "execution_count": 15,
   "metadata": {},
   "outputs": [
    {
     "data": {
      "text/html": [
       "<div>\n",
       "<style scoped>\n",
       "    .dataframe tbody tr th:only-of-type {\n",
       "        vertical-align: middle;\n",
       "    }\n",
       "\n",
       "    .dataframe tbody tr th {\n",
       "        vertical-align: top;\n",
       "    }\n",
       "\n",
       "    .dataframe thead th {\n",
       "        text-align: right;\n",
       "    }\n",
       "</style>\n",
       "<table border=\"1\" class=\"dataframe\">\n",
       "  <thead>\n",
       "    <tr style=\"text-align: right;\">\n",
       "      <th></th>\n",
       "      <th>bins</th>\n",
       "      <th>woe</th>\n",
       "      <th>column</th>\n",
       "    </tr>\n",
       "  </thead>\n",
       "  <tbody>\n",
       "    <tr>\n",
       "      <th>0</th>\n",
       "      <td>(0.694, 50708.0]</td>\n",
       "      <td>1.498433</td>\n",
       "      <td>RevolvingUtilizationOfUnsecuredLines</td>\n",
       "    </tr>\n",
       "    <tr>\n",
       "      <th>1</th>\n",
       "      <td>(0.271, 0.694]</td>\n",
       "      <td>0.715528</td>\n",
       "      <td>RevolvingUtilizationOfUnsecuredLines</td>\n",
       "    </tr>\n",
       "    <tr>\n",
       "      <th>2</th>\n",
       "      <td>(0.0835, 0.271]</td>\n",
       "      <td>0.351583</td>\n",
       "      <td>RevolvingUtilizationOfUnsecuredLines</td>\n",
       "    </tr>\n",
       "    <tr>\n",
       "      <th>3</th>\n",
       "      <td>(-0.001, 0.0195]</td>\n",
       "      <td>0.245099</td>\n",
       "      <td>RevolvingUtilizationOfUnsecuredLines</td>\n",
       "    </tr>\n",
       "    <tr>\n",
       "      <th>4</th>\n",
       "      <td>(0.0195, 0.0835]</td>\n",
       "      <td>0.210839</td>\n",
       "      <td>RevolvingUtilizationOfUnsecuredLines</td>\n",
       "    </tr>\n",
       "    <tr>\n",
       "      <th>5</th>\n",
       "      <td>(6.0, 7.0]</td>\n",
       "      <td>4.137307</td>\n",
       "      <td>NumberOfTimes90DaysLate</td>\n",
       "    </tr>\n",
       "    <tr>\n",
       "      <th>6</th>\n",
       "      <td>(8.0, 9.0]</td>\n",
       "      <td>3.688092</td>\n",
       "      <td>NumberOfTimes90DaysLate</td>\n",
       "    </tr>\n",
       "    <tr>\n",
       "      <th>7</th>\n",
       "      <td>(7.0, 8.0]</td>\n",
       "      <td>3.577762</td>\n",
       "      <td>NumberOfTimes90DaysLate</td>\n",
       "    </tr>\n",
       "    <tr>\n",
       "      <th>8</th>\n",
       "      <td>(3.0, 4.0]</td>\n",
       "      <td>3.376549</td>\n",
       "      <td>NumberOfTimes90DaysLate</td>\n",
       "    </tr>\n",
       "    <tr>\n",
       "      <th>9</th>\n",
       "      <td>(4.0, 5.0]</td>\n",
       "      <td>3.221488</td>\n",
       "      <td>NumberOfTimes90DaysLate</td>\n",
       "    </tr>\n",
       "    <tr>\n",
       "      <th>10</th>\n",
       "      <td>(9.0, inf]</td>\n",
       "      <td>3.101993</td>\n",
       "      <td>NumberOfTimes90DaysLate</td>\n",
       "    </tr>\n",
       "    <tr>\n",
       "      <th>11</th>\n",
       "      <td>(5.0, 6.0]</td>\n",
       "      <td>3.085390</td>\n",
       "      <td>NumberOfTimes90DaysLate</td>\n",
       "    </tr>\n",
       "    <tr>\n",
       "      <th>12</th>\n",
       "      <td>(2.0, 3.0]</td>\n",
       "      <td>2.999138</td>\n",
       "      <td>NumberOfTimes90DaysLate</td>\n",
       "    </tr>\n",
       "    <tr>\n",
       "      <th>13</th>\n",
       "      <td>(1.0, 2.0]</td>\n",
       "      <td>2.698924</td>\n",
       "      <td>NumberOfTimes90DaysLate</td>\n",
       "    </tr>\n",
       "    <tr>\n",
       "      <th>14</th>\n",
       "      <td>(-inf, 1.0]</td>\n",
       "      <td>0.609220</td>\n",
       "      <td>NumberOfTimes90DaysLate</td>\n",
       "    </tr>\n",
       "    <tr>\n",
       "      <th>15</th>\n",
       "      <td>(9.0, inf]</td>\n",
       "      <td>3.149846</td>\n",
       "      <td>NumberOfTime30-59DaysPastDueNotWorse</td>\n",
       "    </tr>\n",
       "    <tr>\n",
       "      <th>16</th>\n",
       "      <td>(5.0, 6.0]</td>\n",
       "      <td>2.809661</td>\n",
       "      <td>NumberOfTime30-59DaysPastDueNotWorse</td>\n",
       "    </tr>\n",
       "    <tr>\n",
       "      <th>17</th>\n",
       "      <td>(6.0, 7.0]</td>\n",
       "      <td>2.771832</td>\n",
       "      <td>NumberOfTime30-59DaysPastDueNotWorse</td>\n",
       "    </tr>\n",
       "    <tr>\n",
       "      <th>18</th>\n",
       "      <td>(4.0, 5.0]</td>\n",
       "      <td>2.517726</td>\n",
       "      <td>NumberOfTime30-59DaysPastDueNotWorse</td>\n",
       "    </tr>\n",
       "    <tr>\n",
       "      <th>19</th>\n",
       "      <td>(3.0, 4.0]</td>\n",
       "      <td>2.426248</td>\n",
       "      <td>NumberOfTime30-59DaysPastDueNotWorse</td>\n",
       "    </tr>\n",
       "    <tr>\n",
       "      <th>20</th>\n",
       "      <td>(2.0, 3.0]</td>\n",
       "      <td>2.148411</td>\n",
       "      <td>NumberOfTime30-59DaysPastDueNotWorse</td>\n",
       "    </tr>\n",
       "    <tr>\n",
       "      <th>21</th>\n",
       "      <td>(8.0, 9.0]</td>\n",
       "      <td>2.074261</td>\n",
       "      <td>NumberOfTime30-59DaysPastDueNotWorse</td>\n",
       "    </tr>\n",
       "    <tr>\n",
       "      <th>22</th>\n",
       "      <td>(7.0, 8.0]</td>\n",
       "      <td>2.021459</td>\n",
       "      <td>NumberOfTime30-59DaysPastDueNotWorse</td>\n",
       "    </tr>\n",
       "    <tr>\n",
       "      <th>23</th>\n",
       "      <td>(1.0, 2.0]</td>\n",
       "      <td>1.795217</td>\n",
       "      <td>NumberOfTime30-59DaysPastDueNotWorse</td>\n",
       "    </tr>\n",
       "    <tr>\n",
       "      <th>24</th>\n",
       "      <td>(-inf, 1.0]</td>\n",
       "      <td>0.573038</td>\n",
       "      <td>NumberOfTime30-59DaysPastDueNotWorse</td>\n",
       "    </tr>\n",
       "    <tr>\n",
       "      <th>25</th>\n",
       "      <td>(5.0, 6.0]</td>\n",
       "      <td>3.755416</td>\n",
       "      <td>NumberOfTime60-89DaysPastDueNotWorse</td>\n",
       "    </tr>\n",
       "    <tr>\n",
       "      <th>26</th>\n",
       "      <td>(3.0, 4.0]</td>\n",
       "      <td>3.161910</td>\n",
       "      <td>NumberOfTime60-89DaysPastDueNotWorse</td>\n",
       "    </tr>\n",
       "    <tr>\n",
       "      <th>27</th>\n",
       "      <td>(4.0, 5.0]</td>\n",
       "      <td>3.156228</td>\n",
       "      <td>NumberOfTime60-89DaysPastDueNotWorse</td>\n",
       "    </tr>\n",
       "    <tr>\n",
       "      <th>28</th>\n",
       "      <td>(9.0, inf]</td>\n",
       "      <td>3.137049</td>\n",
       "      <td>NumberOfTime60-89DaysPastDueNotWorse</td>\n",
       "    </tr>\n",
       "    <tr>\n",
       "      <th>29</th>\n",
       "      <td>(2.0, 3.0]</td>\n",
       "      <td>2.952462</td>\n",
       "      <td>NumberOfTime60-89DaysPastDueNotWorse</td>\n",
       "    </tr>\n",
       "    <tr>\n",
       "      <th>30</th>\n",
       "      <td>(6.0, 7.0]</td>\n",
       "      <td>2.912169</td>\n",
       "      <td>NumberOfTime60-89DaysPastDueNotWorse</td>\n",
       "    </tr>\n",
       "    <tr>\n",
       "      <th>31</th>\n",
       "      <td>(1.0, 2.0]</td>\n",
       "      <td>2.709201</td>\n",
       "      <td>NumberOfTime60-89DaysPastDueNotWorse</td>\n",
       "    </tr>\n",
       "    <tr>\n",
       "      <th>32</th>\n",
       "      <td>(7.0, 8.0]</td>\n",
       "      <td>2.702524</td>\n",
       "      <td>NumberOfTime60-89DaysPastDueNotWorse</td>\n",
       "    </tr>\n",
       "    <tr>\n",
       "      <th>33</th>\n",
       "      <td>(-inf, 1.0]</td>\n",
       "      <td>0.645913</td>\n",
       "      <td>NumberOfTime60-89DaysPastDueNotWorse</td>\n",
       "    </tr>\n",
       "    <tr>\n",
       "      <th>34</th>\n",
       "      <td>(8.0, 9.0]</td>\n",
       "      <td>0.000000</td>\n",
       "      <td>NumberOfTime60-89DaysPastDueNotWorse</td>\n",
       "    </tr>\n",
       "    <tr>\n",
       "      <th>35</th>\n",
       "      <td>(-inf, 25.0]</td>\n",
       "      <td>1.037908</td>\n",
       "      <td>age</td>\n",
       "    </tr>\n",
       "    <tr>\n",
       "      <th>36</th>\n",
       "      <td>(25.0, 40.0]</td>\n",
       "      <td>0.954127</td>\n",
       "      <td>age</td>\n",
       "    </tr>\n",
       "    <tr>\n",
       "      <th>37</th>\n",
       "      <td>(40.0, 50.0]</td>\n",
       "      <td>0.812837</td>\n",
       "      <td>age</td>\n",
       "    </tr>\n",
       "    <tr>\n",
       "      <th>38</th>\n",
       "      <td>(50.0, 60.0]</td>\n",
       "      <td>0.650417</td>\n",
       "      <td>age</td>\n",
       "    </tr>\n",
       "    <tr>\n",
       "      <th>39</th>\n",
       "      <td>(60.0, 70.0]</td>\n",
       "      <td>0.407191</td>\n",
       "      <td>age</td>\n",
       "    </tr>\n",
       "    <tr>\n",
       "      <th>40</th>\n",
       "      <td>(70.0, inf]</td>\n",
       "      <td>0.281663</td>\n",
       "      <td>age</td>\n",
       "    </tr>\n",
       "  </tbody>\n",
       "</table>\n",
       "</div>"
      ],
      "text/plain": [
       "                bins       woe                                column\n",
       "0   (0.694, 50708.0]  1.498433  RevolvingUtilizationOfUnsecuredLines\n",
       "1     (0.271, 0.694]  0.715528  RevolvingUtilizationOfUnsecuredLines\n",
       "2    (0.0835, 0.271]  0.351583  RevolvingUtilizationOfUnsecuredLines\n",
       "3   (-0.001, 0.0195]  0.245099  RevolvingUtilizationOfUnsecuredLines\n",
       "4   (0.0195, 0.0835]  0.210839  RevolvingUtilizationOfUnsecuredLines\n",
       "5         (6.0, 7.0]  4.137307               NumberOfTimes90DaysLate\n",
       "6         (8.0, 9.0]  3.688092               NumberOfTimes90DaysLate\n",
       "7         (7.0, 8.0]  3.577762               NumberOfTimes90DaysLate\n",
       "8         (3.0, 4.0]  3.376549               NumberOfTimes90DaysLate\n",
       "9         (4.0, 5.0]  3.221488               NumberOfTimes90DaysLate\n",
       "10        (9.0, inf]  3.101993               NumberOfTimes90DaysLate\n",
       "11        (5.0, 6.0]  3.085390               NumberOfTimes90DaysLate\n",
       "12        (2.0, 3.0]  2.999138               NumberOfTimes90DaysLate\n",
       "13        (1.0, 2.0]  2.698924               NumberOfTimes90DaysLate\n",
       "14       (-inf, 1.0]  0.609220               NumberOfTimes90DaysLate\n",
       "15        (9.0, inf]  3.149846  NumberOfTime30-59DaysPastDueNotWorse\n",
       "16        (5.0, 6.0]  2.809661  NumberOfTime30-59DaysPastDueNotWorse\n",
       "17        (6.0, 7.0]  2.771832  NumberOfTime30-59DaysPastDueNotWorse\n",
       "18        (4.0, 5.0]  2.517726  NumberOfTime30-59DaysPastDueNotWorse\n",
       "19        (3.0, 4.0]  2.426248  NumberOfTime30-59DaysPastDueNotWorse\n",
       "20        (2.0, 3.0]  2.148411  NumberOfTime30-59DaysPastDueNotWorse\n",
       "21        (8.0, 9.0]  2.074261  NumberOfTime30-59DaysPastDueNotWorse\n",
       "22        (7.0, 8.0]  2.021459  NumberOfTime30-59DaysPastDueNotWorse\n",
       "23        (1.0, 2.0]  1.795217  NumberOfTime30-59DaysPastDueNotWorse\n",
       "24       (-inf, 1.0]  0.573038  NumberOfTime30-59DaysPastDueNotWorse\n",
       "25        (5.0, 6.0]  3.755416  NumberOfTime60-89DaysPastDueNotWorse\n",
       "26        (3.0, 4.0]  3.161910  NumberOfTime60-89DaysPastDueNotWorse\n",
       "27        (4.0, 5.0]  3.156228  NumberOfTime60-89DaysPastDueNotWorse\n",
       "28        (9.0, inf]  3.137049  NumberOfTime60-89DaysPastDueNotWorse\n",
       "29        (2.0, 3.0]  2.952462  NumberOfTime60-89DaysPastDueNotWorse\n",
       "30        (6.0, 7.0]  2.912169  NumberOfTime60-89DaysPastDueNotWorse\n",
       "31        (1.0, 2.0]  2.709201  NumberOfTime60-89DaysPastDueNotWorse\n",
       "32        (7.0, 8.0]  2.702524  NumberOfTime60-89DaysPastDueNotWorse\n",
       "33       (-inf, 1.0]  0.645913  NumberOfTime60-89DaysPastDueNotWorse\n",
       "34        (8.0, 9.0]  0.000000  NumberOfTime60-89DaysPastDueNotWorse\n",
       "35      (-inf, 25.0]  1.037908                                   age\n",
       "36      (25.0, 40.0]  0.954127                                   age\n",
       "37      (40.0, 50.0]  0.812837                                   age\n",
       "38      (50.0, 60.0]  0.650417                                   age\n",
       "39      (60.0, 70.0]  0.407191                                   age\n",
       "40       (70.0, inf]  0.281663                                   age"
      ]
     },
     "execution_count": 15,
     "metadata": {},
     "output_type": "execute_result"
    }
   ],
   "source": [
    "score_card"
   ]
  },
  {
   "cell_type": "markdown",
   "metadata": {},
   "source": [
    "## woe 编码"
   ]
  },
  {
   "cell_type": "code",
   "execution_count": 16,
   "metadata": {},
   "outputs": [],
   "source": [
    "from collections import defaultdict"
   ]
  },
  {
   "cell_type": "code",
   "execution_count": 17,
   "metadata": {},
   "outputs": [
    {
     "data": {
      "text/html": [
       "<div>\n",
       "<style scoped>\n",
       "    .dataframe tbody tr th:only-of-type {\n",
       "        vertical-align: middle;\n",
       "    }\n",
       "\n",
       "    .dataframe tbody tr th {\n",
       "        vertical-align: top;\n",
       "    }\n",
       "\n",
       "    .dataframe thead th {\n",
       "        text-align: right;\n",
       "    }\n",
       "</style>\n",
       "<table border=\"1\" class=\"dataframe\">\n",
       "  <thead>\n",
       "    <tr style=\"text-align: right;\">\n",
       "      <th></th>\n",
       "      <th>RevolvingUtilizationOfUnsecuredLines</th>\n",
       "      <th>NumberOfTimes90DaysLate</th>\n",
       "      <th>NumberOfTime30-59DaysPastDueNotWorse</th>\n",
       "      <th>NumberOfTime60-89DaysPastDueNotWorse</th>\n",
       "      <th>age</th>\n",
       "    </tr>\n",
       "  </thead>\n",
       "  <tbody>\n",
       "    <tr>\n",
       "      <th>0</th>\n",
       "      <td>1.498433</td>\n",
       "      <td>0.60922</td>\n",
       "      <td>1.795217</td>\n",
       "      <td>0.645913</td>\n",
       "      <td>0.812837</td>\n",
       "    </tr>\n",
       "    <tr>\n",
       "      <th>1</th>\n",
       "      <td>1.498433</td>\n",
       "      <td>0.60922</td>\n",
       "      <td>0.573038</td>\n",
       "      <td>0.645913</td>\n",
       "      <td>0.954127</td>\n",
       "    </tr>\n",
       "    <tr>\n",
       "      <th>2</th>\n",
       "      <td>0.715528</td>\n",
       "      <td>0.60922</td>\n",
       "      <td>0.573038</td>\n",
       "      <td>0.645913</td>\n",
       "      <td>0.954127</td>\n",
       "    </tr>\n",
       "    <tr>\n",
       "      <th>3</th>\n",
       "      <td>0.351583</td>\n",
       "      <td>0.60922</td>\n",
       "      <td>0.573038</td>\n",
       "      <td>0.645913</td>\n",
       "      <td>0.954127</td>\n",
       "    </tr>\n",
       "    <tr>\n",
       "      <th>4</th>\n",
       "      <td>1.498433</td>\n",
       "      <td>0.60922</td>\n",
       "      <td>0.573038</td>\n",
       "      <td>0.645913</td>\n",
       "      <td>0.812837</td>\n",
       "    </tr>\n",
       "  </tbody>\n",
       "</table>\n",
       "</div>"
      ],
      "text/plain": [
       "  RevolvingUtilizationOfUnsecuredLines NumberOfTimes90DaysLate  \\\n",
       "0                             1.498433                 0.60922   \n",
       "1                             1.498433                 0.60922   \n",
       "2                             0.715528                 0.60922   \n",
       "3                             0.351583                 0.60922   \n",
       "4                             1.498433                 0.60922   \n",
       "\n",
       "  NumberOfTime30-59DaysPastDueNotWorse NumberOfTime60-89DaysPastDueNotWorse  \\\n",
       "0                             1.795217                             0.645913   \n",
       "1                             0.573038                             0.645913   \n",
       "2                             0.573038                             0.645913   \n",
       "3                             0.573038                             0.645913   \n",
       "4                             0.573038                             0.645913   \n",
       "\n",
       "        age  \n",
       "0  0.812837  \n",
       "1  0.954127  \n",
       "2  0.954127  \n",
       "3  0.954127  \n",
       "4  0.812837  "
      ]
     },
     "execution_count": 17,
     "metadata": {},
     "output_type": "execute_result"
    }
   ],
   "source": [
    "col_bins_woe_dict = defaultdict(dict)\n",
    "for col, group in score_card.groupby('column'):\n",
    "    for i, j in group.iterrows():\n",
    "        col_bins_woe_dict[col][j['bins']] = j['woe']\n",
    "        \n",
    "train_data = df_data[iv_col]\n",
    "\n",
    "for col in iv_col:\n",
    "    train_data[col] = df_bin_record_detail[col].apply(lambda x: col_bins_woe_dict[col][x])\n",
    "    \n",
    "train_data.head()"
   ]
  },
  {
   "cell_type": "markdown",
   "metadata": {},
   "source": [
    "## 模型训练"
   ]
  },
  {
   "cell_type": "markdown",
   "metadata": {},
   "source": [
    "### 数据集拆分"
   ]
  },
  {
   "cell_type": "code",
   "execution_count": 18,
   "metadata": {},
   "outputs": [],
   "source": [
    "from sklearn.model_selection import train_test_split"
   ]
  },
  {
   "cell_type": "code",
   "execution_count": 19,
   "metadata": {},
   "outputs": [
    {
     "name": "stdout",
     "output_type": "stream",
     "text": [
      "x_train (119386, 5)\n",
      "y_train (119386,)\n",
      "x_val (29847, 5)\n",
      "y_val (29847,)\n"
     ]
    }
   ],
   "source": [
    "x_train, x_val, y_train, y_val = train_test_split(train_data, df_data['SeriousDlqin2yrs'], test_size=0.2, random_state=529)\n",
    "\n",
    "print('x_train', x_train.shape)\n",
    "print('y_train', y_train.shape)\n",
    "print('x_val', x_val.shape)\n",
    "print('y_val', y_val.shape)"
   ]
  },
  {
   "cell_type": "markdown",
   "metadata": {},
   "source": [
    "### 数据平衡"
   ]
  },
  {
   "cell_type": "code",
   "execution_count": 20,
   "metadata": {},
   "outputs": [],
   "source": [
    "from imblearn.over_sampling import SMOTE"
   ]
  },
  {
   "cell_type": "code",
   "execution_count": 21,
   "metadata": {},
   "outputs": [
    {
     "name": "stdout",
     "output_type": "stream",
     "text": [
      "over_samples_X (222764, 5)\n",
      "over_samples_y (222764,)\n"
     ]
    }
   ],
   "source": [
    "over_samples = SMOTE(random_state=None, k_neighbors=5)\n",
    "over_samples_X, over_samples_y = over_samples.fit_sample(x_train.values, y_train.values.ravel())\n",
    "\n",
    "print('over_samples_X', over_samples_X.shape)\n",
    "print('over_samples_y', over_samples_y.shape)"
   ]
  },
  {
   "cell_type": "code",
   "execution_count": 22,
   "metadata": {},
   "outputs": [
    {
     "data": {
      "text/plain": [
       "0.5"
      ]
     },
     "execution_count": 22,
     "metadata": {},
     "output_type": "execute_result"
    }
   ],
   "source": [
    "# 正例样本和整体样本比例\n",
    "over_samples_y.sum() / len(over_samples_y)"
   ]
  },
  {
   "cell_type": "markdown",
   "metadata": {},
   "source": [
    "### LR训练"
   ]
  },
  {
   "cell_type": "code",
   "execution_count": 23,
   "metadata": {},
   "outputs": [],
   "source": [
    "from sklearn.linear_model import LogisticRegression\n",
    "from sklearn.metrics import accuracy_score, precision_score, recall_score, roc_auc_score, f1_score"
   ]
  },
  {
   "cell_type": "code",
   "execution_count": 24,
   "metadata": {},
   "outputs": [],
   "source": [
    "def print_report(y_true, y_pre, y_score):\n",
    "    print('f1:{:.2f}%'.format(f1_score(y_pre, y_true)*100))\n",
    "    print('acc:{:.2f}%'.format(accuracy_score(y_pre, y_true)*100))\n",
    "    print('rec:{:.2f}%'.format(recall_score(y_pre, y_true)*100))\n",
    "    print('pre:{:.2f}%'.format(precision_score(y_pre, y_true)*100))\n",
    "    print('auc:{:.2f}%'.format(roc_auc_score(y_val, y_score[:,1])*100))"
   ]
  },
  {
   "cell_type": "code",
   "execution_count": 25,
   "metadata": {},
   "outputs": [
    {
     "name": "stdout",
     "output_type": "stream",
     "text": [
      "不做样本平衡\n",
      "f1:21.91%\n",
      "acc:93.74%\n",
      "rec:66.84%\n",
      "pre:13.10%\n",
      "auc:82.34%\n"
     ]
    }
   ],
   "source": [
    "lr = LogisticRegression()\n",
    "lr.fit(x_train, y_train)\n",
    "predict = lr.predict(x_val)\n",
    "predict_proba = lr.predict_proba(x_val)\n",
    "\n",
    "print('不做样本平衡')\n",
    "print_report(y_val, predict, predict_proba)"
   ]
  },
  {
   "cell_type": "code",
   "execution_count": 26,
   "metadata": {},
   "outputs": [
    {
     "name": "stdout",
     "output_type": "stream",
     "text": [
      "calss weight 平衡\n",
      "f1:32.01%\n",
      "acc:80.12%\n",
      "rec:20.76%\n",
      "pre:69.85%\n",
      "auc:82.45%\n"
     ]
    }
   ],
   "source": [
    "lr_weight = LogisticRegression(class_weight='balanced')\n",
    "lr_weight.fit(x_train, y_train)\n",
    "predict = lr_weight.predict(x_val)\n",
    "predict_proba = lr_weight.predict_proba(x_val)\n",
    "\n",
    "print('calss weight 平衡')\n",
    "print_report(y_val, predict, predict_proba)"
   ]
  },
  {
   "cell_type": "code",
   "execution_count": 27,
   "metadata": {},
   "outputs": [
    {
     "name": "stdout",
     "output_type": "stream",
     "text": [
      "SMOTE 样本平衡\n",
      "f1:32.01%\n",
      "acc:80.12%\n",
      "rec:20.76%\n",
      "pre:69.85%\n",
      "auc:82.44%\n"
     ]
    }
   ],
   "source": [
    "lr_over = LogisticRegression()\n",
    "lr_over.fit(over_samples_X, over_samples_y)\n",
    "predict = lr_over.predict(x_val)\n",
    "predict_proba = lr_over.predict_proba(x_val)\n",
    "\n",
    "print('SMOTE 样本平衡')\n",
    "print_report(y_val, predict, predict_proba)"
   ]
  },
  {
   "cell_type": "markdown",
   "metadata": {},
   "source": [
    "**针对于风险评估问题，综合来说不做样本平衡的模型较好**\n",
    "1. 召回比做样本平衡的模型好，对潜在风险的识别能力比较好\n",
    "2. auc值几乎一样\n",
    "3. 对于精确度和召回的取舍看实际情况对于要识别出还是准去的识别这两个需求哪个比较看重"
   ]
  },
  {
   "cell_type": "markdown",
   "metadata": {},
   "source": [
    "## 评分卡模型生成\n",
    "$score = A - B * ln(Odds)=A-B * \\theta ^Tx$"
   ]
  },
  {
   "cell_type": "code",
   "execution_count": 77,
   "metadata": {},
   "outputs": [
    {
     "data": {
      "text/html": [
       "<div>\n",
       "<style scoped>\n",
       "    .dataframe tbody tr th:only-of-type {\n",
       "        vertical-align: middle;\n",
       "    }\n",
       "\n",
       "    .dataframe tbody tr th {\n",
       "        vertical-align: top;\n",
       "    }\n",
       "\n",
       "    .dataframe thead th {\n",
       "        text-align: right;\n",
       "    }\n",
       "</style>\n",
       "<table border=\"1\" class=\"dataframe\">\n",
       "  <thead>\n",
       "    <tr style=\"text-align: right;\">\n",
       "      <th></th>\n",
       "      <th>SeriousDlqin2yrs</th>\n",
       "      <th>score</th>\n",
       "    </tr>\n",
       "  </thead>\n",
       "  <tbody>\n",
       "    <tr>\n",
       "      <th>0</th>\n",
       "      <td>1</td>\n",
       "      <td>262.634</td>\n",
       "    </tr>\n",
       "    <tr>\n",
       "      <th>1</th>\n",
       "      <td>0</td>\n",
       "      <td>329.995</td>\n",
       "    </tr>\n",
       "    <tr>\n",
       "      <th>2</th>\n",
       "      <td>0</td>\n",
       "      <td>411.219</td>\n",
       "    </tr>\n",
       "    <tr>\n",
       "      <th>3</th>\n",
       "      <td>0</td>\n",
       "      <td>448.978</td>\n",
       "    </tr>\n",
       "    <tr>\n",
       "      <th>4</th>\n",
       "      <td>0</td>\n",
       "      <td>340.851</td>\n",
       "    </tr>\n",
       "    <tr>\n",
       "      <th>...</th>\n",
       "      <td>...</td>\n",
       "      <td>...</td>\n",
       "    </tr>\n",
       "    <tr>\n",
       "      <th>149228</th>\n",
       "      <td>0</td>\n",
       "      <td>515.25</td>\n",
       "    </tr>\n",
       "    <tr>\n",
       "      <th>149229</th>\n",
       "      <td>0</td>\n",
       "      <td>422.076</td>\n",
       "    </tr>\n",
       "    <tr>\n",
       "      <th>149230</th>\n",
       "      <td>0</td>\n",
       "      <td>472.314</td>\n",
       "    </tr>\n",
       "    <tr>\n",
       "      <th>149231</th>\n",
       "      <td>0</td>\n",
       "      <td>460.026</td>\n",
       "    </tr>\n",
       "    <tr>\n",
       "      <th>149232</th>\n",
       "      <td>0</td>\n",
       "      <td>372.02</td>\n",
       "    </tr>\n",
       "  </tbody>\n",
       "</table>\n",
       "<p>149233 rows × 2 columns</p>\n",
       "</div>"
      ],
      "text/plain": [
       "        SeriousDlqin2yrs    score\n",
       "0                      1  262.634\n",
       "1                      0  329.995\n",
       "2                      0  411.219\n",
       "3                      0  448.978\n",
       "4                      0  340.851\n",
       "...                  ...      ...\n",
       "149228                 0   515.25\n",
       "149229                 0  422.076\n",
       "149230                 0  472.314\n",
       "149231                 0  460.026\n",
       "149232                 0   372.02\n",
       "\n",
       "[149233 rows x 2 columns]"
      ]
     },
     "execution_count": 77,
     "metadata": {},
     "output_type": "execute_result"
    }
   ],
   "source": [
    "A = 650\n",
    "B = 72\n",
    "df_data['score'] = A - B * (np.dot(train_data.values, lr.coef_.T))\n",
    "df_data[['SeriousDlqin2yrs', 'score']]"
   ]
  },
  {
   "cell_type": "markdown",
   "metadata": {},
   "source": [
    "## 评分卡模型评估\n",
    "1. 随机5个不违约的客户\n",
    "2. 随机5个违约的客户\n",
    "3. 整体评估"
   ]
  },
  {
   "cell_type": "code",
   "execution_count": 101,
   "metadata": {},
   "outputs": [],
   "source": [
    "import random"
   ]
  },
  {
   "cell_type": "code",
   "execution_count": 102,
   "metadata": {},
   "outputs": [],
   "source": [
    "bad_random = random.sample(df_data[df_data['SeriousDlqin2yrs']==1].index.tolist(),5)\n",
    "good_random = random.sample(df_data[df_data['SeriousDlqin2yrs']==0].index.tolist(),5)"
   ]
  },
  {
   "cell_type": "code",
   "execution_count": 103,
   "metadata": {},
   "outputs": [
    {
     "data": {
      "text/html": [
       "<div>\n",
       "<style scoped>\n",
       "    .dataframe tbody tr th:only-of-type {\n",
       "        vertical-align: middle;\n",
       "    }\n",
       "\n",
       "    .dataframe tbody tr th {\n",
       "        vertical-align: top;\n",
       "    }\n",
       "\n",
       "    .dataframe thead th {\n",
       "        text-align: right;\n",
       "    }\n",
       "</style>\n",
       "<table border=\"1\" class=\"dataframe\">\n",
       "  <thead>\n",
       "    <tr style=\"text-align: right;\">\n",
       "      <th></th>\n",
       "      <th>SeriousDlqin2yrs</th>\n",
       "      <th>score</th>\n",
       "    </tr>\n",
       "  </thead>\n",
       "  <tbody>\n",
       "    <tr>\n",
       "      <th>135151</th>\n",
       "      <td>1</td>\n",
       "      <td>353.331</td>\n",
       "    </tr>\n",
       "    <tr>\n",
       "      <th>149171</th>\n",
       "      <td>1</td>\n",
       "      <td>310.399</td>\n",
       "    </tr>\n",
       "    <tr>\n",
       "      <th>42765</th>\n",
       "      <td>1</td>\n",
       "      <td>486.916</td>\n",
       "    </tr>\n",
       "    <tr>\n",
       "      <th>140692</th>\n",
       "      <td>1</td>\n",
       "      <td>411.219</td>\n",
       "    </tr>\n",
       "    <tr>\n",
       "      <th>3024</th>\n",
       "      <td>1</td>\n",
       "      <td>240.031</td>\n",
       "    </tr>\n",
       "    <tr>\n",
       "      <th>51593</th>\n",
       "      <td>0</td>\n",
       "      <td>474.436</td>\n",
       "    </tr>\n",
       "    <tr>\n",
       "      <th>126902</th>\n",
       "      <td>0</td>\n",
       "      <td>515.25</td>\n",
       "    </tr>\n",
       "    <tr>\n",
       "      <th>59032</th>\n",
       "      <td>0</td>\n",
       "      <td>460.026</td>\n",
       "    </tr>\n",
       "    <tr>\n",
       "      <th>4403</th>\n",
       "      <td>0</td>\n",
       "      <td>486.916</td>\n",
       "    </tr>\n",
       "    <tr>\n",
       "      <th>15862</th>\n",
       "      <td>0</td>\n",
       "      <td>381.665</td>\n",
       "    </tr>\n",
       "  </tbody>\n",
       "</table>\n",
       "</div>"
      ],
      "text/plain": [
       "        SeriousDlqin2yrs    score\n",
       "135151                 1  353.331\n",
       "149171                 1  310.399\n",
       "42765                  1  486.916\n",
       "140692                 1  411.219\n",
       "3024                   1  240.031\n",
       "51593                  0  474.436\n",
       "126902                 0   515.25\n",
       "59032                  0  460.026\n",
       "4403                   0  486.916\n",
       "15862                  0  381.665"
      ]
     },
     "execution_count": 103,
     "metadata": {},
     "output_type": "execute_result"
    }
   ],
   "source": [
    "df_data.iloc[bad_random+good_random][['SeriousDlqin2yrs', 'score']]"
   ]
  },
  {
   "cell_type": "code",
   "execution_count": 139,
   "metadata": {
    "scrolled": false
   },
   "outputs": [
    {
     "data": {
      "image/png": "[encoded data removed]",
      "text/plain": [
       "<Figure size 1152x432 with 2 Axes>"
      ]
     },
     "metadata": {
      "needs_background": "light"
     },
     "output_type": "display_data"
    }
   ],
   "source": [
    "df_bad = df_data[df_data['SeriousDlqin2yrs']==1][['SeriousDlqin2yrs', 'score']]\n",
    "df_good = df_data[df_data['SeriousDlqin2yrs']==0][['SeriousDlqin2yrs', 'score']]\n",
    "\n",
    "fig, ax = plt.subplots(2, 1, figsize=(16, 6))\n",
    "\n",
    "for idx, df in enumerate([df_bad, df_good]):\n",
    "    ax[idx].hist(df['score'], bins=100)\n",
    "    ax[idx].axvline(df['score'].quantile(0.2), color='g')\n",
    "    ax[idx].axvline(df['score'].quantile(0.8), color='r')\n",
    "plt.show()"
   ]
  },
  {
   "cell_type": "markdown",
   "metadata": {},
   "source": [
    "1. 绿线往右 -> 前20%数据\n",
    "2. 红色往左 -> 后20%数据"
   ]
  },
  {
   "cell_type": "code",
   "execution_count": 155,
   "metadata": {},
   "outputs": [
    {
     "data": {
      "image/png": "[encoded data removed]",
      "text/plain": [
       "<Figure size 1152x216 with 2 Axes>"
      ]
     },
     "metadata": {
      "needs_background": "light"
     },
     "output_type": "display_data"
    }
   ],
   "source": [
    "fig, ax = plt.subplots(1, 2, figsize=(16, 3))\n",
    "ax[0].boxplot(df_good['score'])\n",
    "ax[0].set_xticklabels(['good'])\n",
    "ax[1].boxplot(df_bad['score'])\n",
    "ax[1].set_xticklabels(['bad'])\n",
    "plt.show()"
   ]
  }
 ],
 "metadata": {
  "kernelspec": {
   "display_name": "Python 3",
   "language": "python",
   "name": "python3"
  },
  "language_info": {
   "codemirror_mode": {
    "name": "ipython",
    "version": 3
   },
   "file_extension": ".py",
   "mimetype": "text/x-python",
   "name": "python",
   "nbconvert_exporter": "python",
   "pygments_lexer": "ipython3",
   "version": "3.7.6"
  }
 },
 "nbformat": 4,
 "nbformat_minor": 4
}
