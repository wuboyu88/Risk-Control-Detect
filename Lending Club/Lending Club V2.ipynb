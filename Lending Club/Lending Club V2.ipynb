{
  "nbformat": 4,
  "nbformat_minor": 0,
  "metadata": {
    "hide_input": false,
    "kernelspec": {
      "display_name": "Python 3",
      "language": "python",
      "name": "python3"
    },
    "language_info": {
      "codemirror_mode": {
        "name": "ipython",
        "version": 3
      },
      "file_extension": ".py",
      "mimetype": "text/x-python",
      "name": "python",
      "nbconvert_exporter": "python",
      "pygments_lexer": "ipython3",
      "version": "3.7.6"
    },
    "toc": {
      "base_numbering": 1,
      "nav_menu": {},
      "number_sections": true,
      "sideBar": true,
      "skip_h1_title": false,
      "title_cell": "Table of Contents",
      "title_sidebar": "Contents",
      "toc_cell": false,
      "toc_position": {},
      "toc_section_display": true,
      "toc_window_display": false
    },
    "varInspector": {
      "cols": {
        "lenName": 16,
        "lenType": 16,
        "lenVar": 40
      },
      "kernels_config": {
        "python": {
          "delete_cmd_postfix": "",
          "delete_cmd_prefix": "del ",
          "library": "var_list.py",
          "varRefreshCmd": "print(var_dic_list())"
        },
        "r": {
          "delete_cmd_postfix": ") ",
          "delete_cmd_prefix": "rm(",
          "library": "var_list.r",
          "varRefreshCmd": "cat(var_dic_list()) "
        }
      },
      "types_to_exclude": [
        "module",
        "function",
        "builtin_function_or_method",
        "instance",
        "_Feature"
      ],
      "window_display": false
    },
    "colab": {
      "name": "Lending Club V2.ipynb",
      "provenance": [],
      "toc_visible": true,
      "include_colab_link": true
    }
  },
  "cells": [
    {
      "cell_type": "markdown",
      "metadata": {
        "id": "view-in-github",
        "colab_type": "text"
      },
      "source": [
        "<a href=\"https://colab.research.google.com/github/xx529/Risk-Control-Detect/blob/main/Lending%20Club/Lending%20Club%20V2.ipynb\" target=\"_parent\"><img src=\"https://colab.research.google.com/assets/colab-badge.svg\" alt=\"Open In Colab\"/></a>"
      ]
    },
    {
      "cell_type": "markdown",
      "metadata": {
        "id": "HXCMzrO_lrW7"
      },
      "source": [
        "# Summarize\n",
        "\n",
        "1. 题目：Lending Club 数据集模型训练。\n",
        "\n",
        "2. 根据给定的 Lending Club 数据集进行调优，要求：\n",
        "\n",
        "3. 根据三种衍生变量构建的方法每个至少构建出一个衍生变量，并检验其结果；\n",
        "    1. 实现非深度学习至少三个模型并进行集成；\n",
        "    2. 实现至少一种深度学习网络，并比较其效果；检查是否可以将之进行集成；\n",
        "    3. 根据自己选择的深度学习网络，实现至少一中训练的 trick。"
      ]
    },
    {
      "cell_type": "markdown",
      "metadata": {
        "id": "d5XYWH4llqc8"
      },
      "source": [
        "# Lending Club V2"
      ]
    },
    {
      "cell_type": "markdown",
      "metadata": {
        "id": "jEh_z7_mqZpp"
      },
      "source": [
        "## Loading"
      ]
    },
    {
      "cell_type": "code",
      "metadata": {
        "id": "kvamJP1BpEM5"
      },
      "source": [
        "# ffrom google.colab import drive\n",
        "# drive.mount('/content/drive')"
      ],
      "execution_count": 30,
      "outputs": []
    },
    {
      "cell_type": "code",
      "metadata": {
        "id": "meCh8eDIpFUS"
      },
      "source": [
        "import numpy as np\n",
        "import pandas as pd\n",
        "import matplotlib.pyplot as plt\n",
        "from collections import defaultdict"
      ],
      "execution_count": 31,
      "outputs": []
    },
    {
      "cell_type": "code",
      "metadata": {
        "id": "UB2wQVkApQuM"
      },
      "source": [
        "df_train_raw = pd.read_csv('/content/drive/MyDrive/Colab Notebooks Project/Risk Control & Detect/Lending Club/train_final.csv')\n",
        "df_test_raw = pd.read_csv('/content/drive/MyDrive/Colab Notebooks Project/Risk Control & Detect/Lending Club/test_final.csv')"
      ],
      "execution_count": 32,
      "outputs": []
    },
    {
      "cell_type": "markdown",
      "metadata": {
        "id": "UHZH5GiJpb1S"
      },
      "source": [
        "## Preprocessing\n",
        "\n"
      ]
    },
    {
      "cell_type": "code",
      "metadata": {
        "id": "9kpmFEqtpgez",
        "outputId": "149295d1-fd2c-4e2e-a889-43d4e48d0eaa",
        "colab": {
          "base_uri": "https://localhost:8080/"
        }
      },
      "source": [
        "# define name of columns\n",
        "label_col = 'loan_status'\n",
        "continuous_features = [x for x in df_train_raw.columns if 'continuous' in x]\n",
        "discrete_features = [x for x in df_train_raw.columns if 'discrete' in x]\n",
        "null_features = [x for x in df_train_raw.columns if df_train_raw[x].isnull().any()]\n",
        "\n",
        "len(continuous_features) + len(discrete_features) + 1"
      ],
      "execution_count": 33,
      "outputs": [
        {
          "output_type": "execute_result",
          "data": {
            "text/plain": [
              "146"
            ]
          },
          "metadata": {
            "tags": []
          },
          "execution_count": 33
        }
      ]
    },
    {
      "cell_type": "markdown",
      "metadata": {
        "id": "iInnHDwVsN30"
      },
      "source": [
        "## Task 1\n",
        "实现非深度学习至少三个模型并进行集成\n",
        "\n",
        "* 衍生变量构造：\n",
        "* 模型集成所选：\n",
        "* 集成方式：Stacking"
      ]
    },
    {
      "cell_type": "code",
      "metadata": {
        "id": "VcystxTgtDcm"
      },
      "source": [
        ""
      ],
      "execution_count": null,
      "outputs": []
    },
    {
      "cell_type": "markdown",
      "metadata": {
        "id": "k36Hfsg3tLRs"
      },
      "source": [
        "## Task 2\n",
        "实现至少一种深度学习网络，并比较其效果；检查是否可以将之进行集成\n",
        "\n",
        "* 深度模型1：简单多层MLP网络\n",
        "* 深度模型2：未定"
      ]
    },
    {
      "cell_type": "code",
      "metadata": {
        "id": "44imEzXDtO1P"
      },
      "source": [
        ""
      ],
      "execution_count": null,
      "outputs": []
    },
    {
      "cell_type": "markdown",
      "metadata": {
        "id": "ZVGGETvNtPXm"
      },
      "source": [
        "## Task 3\n",
        "根据自己选择的深度学习网络，实现至少一中训练的 trick\n",
        "\n",
        "* 训练trick使用："
      ]
    },
    {
      "cell_type": "code",
      "metadata": {
        "id": "3QjhdEJZtU5T"
      },
      "source": [
        ""
      ],
      "execution_count": null,
      "outputs": []
    }
  ]
}